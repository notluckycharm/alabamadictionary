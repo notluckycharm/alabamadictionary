{
 "cells": [
  {
   "cell_type": "code",
   "execution_count": 15,
   "metadata": {},
   "outputs": [],
   "source": [
    "from bs4 import BeautifulSoup\n",
    "import pandas as pd"
   ]
  },
  {
   "cell_type": "code",
   "execution_count": 16,
   "metadata": {},
   "outputs": [],
   "source": [
    "# def extract_entries_from_file(file_path):\n",
    "#     with open(file_path, 'r', encoding='utf-8') as file:\n",
    "#         soup = BeautifulSoup(file, 'html.parser')\n",
    "#         entries = []\n",
    "#         for entry in soup.find_all('a', attrs={\"name\": True}):\n",
    "#             try:\n",
    "#                 alabama_word = entry['name']\n",
    "#                 english_translation = entry.find_next('font', size=\"+2\").get_text().strip()\n",
    "#             except:\n",
    "#                 print(file_path)\n",
    "#                 continue\n",
    "#             example_sentences = []\n",
    "#             additional_info = \"\"\n",
    "#             # Extracting example sentences\n",
    "#             try:\n",
    "#                 example_tag = entry.find_next('font', face=\"Arial\")\n",
    "#                 if example_tag and example_tag.strip().endswith('«'):\n",
    "#                     example_text = example_tag.find_next_sibling().strip()\n",
    "#                     translation_tag = example_tag.find_next('font', face=\"Arial\")\n",
    "#                     if translation_tag:\n",
    "#                         translation = translation_tag.find_previous('i').get_text().strip()\n",
    "#                         example_sentences.append({'sent': example_text, 'tr': translation})\n",
    "                \n",
    "#             except:\n",
    "#                 example_sentences.append('')\n",
    "                \n",
    "#             # Extracting additional information\n",
    "#             # additional_info_tag = entry.find_next('font', color=\"#800080\")\n",
    "#             # if additional_info_tag:\n",
    "#             #     additional_info = additional_info_tag.get_text().strip()\n",
    "#             #     # Extracting example sentences from additional info\n",
    "#             #     example_sentences.extend(example.strip() for example in additional_info_tag.next_siblings if example != ' - ')\n",
    "#             #     additional_info = additional_info.split(' - ')[0]\n",
    "#             entries.append({\n",
    "#                 'Alabama': alabama_word,\n",
    "#                 'English': english_translation,\n",
    "#                 'Examples': example_sentences\n",
    "#                 # 'Additional Info': additional_info or None\n",
    "#             })\n",
    "#     return entries"
   ]
  },
  {
   "cell_type": "code",
   "execution_count": null,
   "metadata": {},
   "outputs": [],
   "source": [
    "def extract_entries_from_file(file_path):\n",
    "    with open(file_path, 'r', encoding='utf-8') as file:\n",
    "        soup = BeautifulSoup(file, 'html.parser')\n",
    "        entries = []\n",
    "        for entry in soup.find_all('&nbsp;'):\n",
    "            try:\n",
    "                english_translation = entry['name']\n",
    "                alabama_word = entry.find_next('font', size=\"+2\").get_text().strip()\n",
    "            except:\n",
    "                print(file_path)\n",
    "                continue\n",
    "            example_sentences = []\n",
    "            additional_info = \"\"\n",
    "            # Extracting example sentences\n",
    "            try:\n",
    "                example_tag = entry.find_next('font', face=\"Arial\")\n",
    "                if example_tag and example_tag.strip().endswith('«'):\n",
    "                    example_text = example_tag.find_next_sibling().strip()\n",
    "                    translation_tag = example_tag.find_next('font', face=\"Arial\")\n",
    "                    if translation_tag:\n",
    "                        translation = translation_tag.find_previous('i').get_text().strip()\n",
    "                        example_sentences.append({'sent': example_text, 'tr': translation})\n",
    "                \n",
    "            except:\n",
    "                example_sentences.append('')\n",
    "                \n",
    "            # Extracting additional information\n",
    "            # additional_info_tag = entry.find_next('font', color=\"#800080\")\n",
    "            # if additional_info_tag:\n",
    "            #     additional_info = additional_info_tag.get_text().strip()\n",
    "            #     # Extracting example sentences from additional info\n",
    "            #     example_sentences.extend(example.strip() for example in additional_info_tag.next_siblings if example != ' - ')\n",
    "            #     additional_info = additional_info.split(' - ')[0]\n",
    "            entries.append({\n",
    "                'Alabama': alabama_word,\n",
    "                'English': english_translation,\n",
    "                'Examples': example_sentences\n",
    "                # 'Additional Info': additional_info or None\n",
    "            })\n",
    "    return entries"
   ]
  },
  {
   "cell_type": "code",
   "execution_count": 22,
   "metadata": {},
   "outputs": [
    {
     "data": {
      "text/plain": [
       "[]"
      ]
     },
     "execution_count": 22,
     "metadata": {},
     "output_type": "execute_result"
    }
   ],
   "source": [
    "extract_entries_from_file('/Users/jacobfernandes/Desktop/alabamadictionary/DictfilesEnglish/English-A.txt')"
   ]
  },
  {
   "cell_type": "code",
   "execution_count": 17,
   "metadata": {},
   "outputs": [],
   "source": [
    "import os\n",
    "\n",
    "# Assuming the extract_entries_from_file function is defined as described earlier\n",
    "\n",
    "folder_path = \"DictfilesEnglish\"\n",
    "\n",
    "# Get list of files in the folder\n",
    "file_names = os.listdir(folder_path)\n",
    "\n",
    "# Filter only .txt files\n",
    "txt_files = [file for file in file_names if file.endswith('.txt')]\n",
    "entries = []\n",
    "# Iterate over each file and apply the extract_entries_from_file function\n",
    "for file_name in txt_files:\n",
    "    file_path = os.path.join(folder_path, file_name)\n",
    "    entries += extract_entries_from_file(file_path)\n",
    "    # Do something with the extracted entries, such as saving to a DataFrame\n",
    "    # For example:\n",
    "    # df = pd.DataFrame(entries)\n",
    "    # print(df)\n"
   ]
  },
  {
   "cell_type": "code",
   "execution_count": 18,
   "metadata": {},
   "outputs": [],
   "source": [
    "import pandas as pd"
   ]
  },
  {
   "cell_type": "code",
   "execution_count": 19,
   "metadata": {},
   "outputs": [
    {
     "data": {
      "text/html": [
       "<div>\n",
       "<style scoped>\n",
       "    .dataframe tbody tr th:only-of-type {\n",
       "        vertical-align: middle;\n",
       "    }\n",
       "\n",
       "    .dataframe tbody tr th {\n",
       "        vertical-align: top;\n",
       "    }\n",
       "\n",
       "    .dataframe thead th {\n",
       "        text-align: right;\n",
       "    }\n",
       "</style>\n",
       "<table border=\"1\" class=\"dataframe\">\n",
       "  <thead>\n",
       "    <tr style=\"text-align: right;\">\n",
       "      <th></th>\n",
       "    </tr>\n",
       "  </thead>\n",
       "  <tbody>\n",
       "  </tbody>\n",
       "</table>\n",
       "</div>"
      ],
      "text/plain": [
       "Empty DataFrame\n",
       "Columns: []\n",
       "Index: []"
      ]
     },
     "execution_count": 19,
     "metadata": {},
     "output_type": "execute_result"
    }
   ],
   "source": [
    "entries = pd.DataFrame(entries)\n",
    "entries"
   ]
  },
  {
   "cell_type": "code",
   "execution_count": 20,
   "metadata": {},
   "outputs": [],
   "source": [
    "entries.to_csv('en-dictionary.csv')"
   ]
  },
  {
   "cell_type": "code",
   "execution_count": 21,
   "metadata": {},
   "outputs": [],
   "source": [
    "with open('en-dictionary.csv', 'r') as f:\n",
    "    with open('en-dict.json', 'w') as g:\n",
    "        g.write(\"\"\"{ \"words\" : [\"\"\")\n",
    "        x = pd.read_csv(f)\n",
    "        for index, row in x.iterrows():\n",
    "            g.write(\"\"\"\n",
    "    { \n",
    "        \"lemma\":\\\"\"\"\" +  row[1] + \"\"\"\\\",\n",
    "        \"definition\": \\\"\"\"\" + row[2] + \"\"\"\\\"\n",
    "    },\"\"\")\n",
    "        g.write(\"]}\")"
   ]
  }
 ],
 "metadata": {
  "kernelspec": {
   "display_name": "Python 3",
   "language": "python",
   "name": "python3"
  },
  "language_info": {
   "codemirror_mode": {
    "name": "ipython",
    "version": 3
   },
   "file_extension": ".py",
   "mimetype": "text/x-python",
   "name": "python",
   "nbconvert_exporter": "python",
   "pygments_lexer": "ipython3",
   "version": "3.11.5"
  }
 },
 "nbformat": 4,
 "nbformat_minor": 2
}
